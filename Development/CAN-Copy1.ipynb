{
 "cells": [
  {
   "cell_type": "code",
   "execution_count": 1,
   "metadata": {},
   "outputs": [],
   "source": [
    "from canlib import canlib, Frame\n",
    "from canlib.canlib import ChannelData"
   ]
  },
  {
   "cell_type": "code",
   "execution_count": 2,
   "metadata": {},
   "outputs": [],
   "source": [
    "def setUpChannel(channel=0,\n",
    "                 openFlags=canlib.canOPEN_ACCEPT_VIRTUAL,\n",
    "                 bitrate=canlib.canBITRATE_250K,\n",
    "                 bitrateFlags=canlib.canDRIVER_NORMAL):\n",
    "    ch = canlib.openChannel(channel, openFlags)\n",
    "    print(\"Using channel: %s, EAN: %s\" % (ChannelData(channel).device_name,\n",
    "                                          ChannelData(channel).card_upc_no)\n",
    "                                              )\n",
    "    ch.setBusOutputControl(bitrateFlags)\n",
    "    ch.setBusParams(bitrate)\n",
    "    ch.busOn()\n",
    "    return ch\n",
    "\n",
    "\n",
    "def tearDownChannel(ch):\n",
    "    ch.busOff()\n",
    "    ch.close()"
   ]
  },
  {
   "cell_type": "code",
   "execution_count": 3,
   "metadata": {},
   "outputs": [
    {
     "name": "stdout",
     "output_type": "stream",
     "text": [
      "canlib version: 5.22\n",
      "Using channel: Kvaser Leaf Light HS (channel 0), EAN: 73-30130-00241-8\n"
     ]
    }
   ],
   "source": [
    "print(\"canlib version:\", canlib.dllversion())\n",
    "\n",
    "ch0 = setUpChannel()"
   ]
  },
  {
   "cell_type": "code",
   "execution_count": 4,
   "metadata": {},
   "outputs": [
    {
     "name": "stdout",
     "output_type": "stream",
     "text": [
      "Frame(id=256, data=bytearray(b'\\x00\\x01\\x02\\x03\\x04\\x05\\x06\\x07'), dlc=8, flags=<MessageFlag.STD: 2>, timestamp=346456)\n"
     ]
    }
   ],
   "source": [
    "while True:\n",
    "    try:\n",
    "        frame = ch0.read()\n",
    "        print(frame)\n",
    "        break\n",
    "    except (canlib.canNoMsg) as ex:\n",
    "        pass\n",
    "    except (canlib.canError) as ex:\n",
    "        print(ex)"
   ]
  },
  {
   "cell_type": "code",
   "execution_count": 12,
   "metadata": {},
   "outputs": [
    {
     "data": {
      "text/plain": [
       "Frame(id=256, data=bytearray(b'\\x00\\x01\\x02\\x03\\x04\\x05\\x06\\x07'), dlc=8, flags=<MessageFlag.STD: 2>, timestamp=351679)"
      ]
     },
     "execution_count": 12,
     "metadata": {},
     "output_type": "execute_result"
    }
   ],
   "source": [
    "ch0.read()"
   ]
  },
  {
   "cell_type": "code",
   "execution_count": 13,
   "metadata": {},
   "outputs": [],
   "source": [
    "import serial"
   ]
  },
  {
   "cell_type": "code",
   "execution_count": 15,
   "metadata": {},
   "outputs": [],
   "source": [
    "ser = serial.Serial(port='/dev/ttyUSB0',\n",
    "                    baudrate=115200) "
   ]
  },
  {
   "cell_type": "code",
   "execution_count": 16,
   "metadata": {},
   "outputs": [],
   "source": [
    "ch0.busOff()"
   ]
  },
  {
   "cell_type": "code",
   "execution_count": 28,
   "metadata": {},
   "outputs": [
    {
     "data": {
      "text/plain": [
       "b'\\x01init\\x19Entering Configuration Mode Successful!\\r\\nSetting Baudrate Successful!\\r\\n\\x02\\x00\\x03\\x04'"
      ]
     },
     "execution_count": 28,
     "metadata": {},
     "output_type": "execute_result"
    }
   ],
   "source": [
    "ser.close()\n",
    "ser.open()\n",
    "ser.flush()\n",
    "\n",
    "ser.flushInput()\n",
    "ser.flushOutput()\n",
    "\n",
    "packet = ser.read_until(b\"\\x04\")\n",
    "packet"
   ]
  },
  {
   "cell_type": "code",
   "execution_count": 29,
   "metadata": {},
   "outputs": [
    {
     "data": {
      "text/plain": [
       "b'\\x01status\\x19\\x02\\x00\\x03\\x04'"
      ]
     },
     "execution_count": 29,
     "metadata": {},
     "output_type": "execute_result"
    }
   ],
   "source": [
    "ser.flushInput()\n",
    "ser.flushOutput()\n",
    "\n",
    "packet = ser.read_until(b\"\\x04\")\n",
    "packet"
   ]
  },
  {
   "cell_type": "code",
   "execution_count": 26,
   "metadata": {},
   "outputs": [],
   "source": [
    "ch0.busOn()"
   ]
  },
  {
   "cell_type": "code",
   "execution_count": 27,
   "metadata": {},
   "outputs": [
    {
     "data": {
      "text/plain": [
       "b'\\x01status\\x19\\x02\\x00\\x03\\x04'"
      ]
     },
     "execution_count": 27,
     "metadata": {},
     "output_type": "execute_result"
    }
   ],
   "source": [
    "ser.flushInput()\n",
    "ser.flushOutput()\n",
    "\n",
    "packet = ser.read_until(b\"\\x04\")\n",
    "packet"
   ]
  },
  {
   "cell_type": "code",
   "execution_count": null,
   "metadata": {},
   "outputs": [],
   "source": [
    "ser."
   ]
  }
 ],
 "metadata": {
  "kernelspec": {
   "display_name": "Python 3",
   "language": "python",
   "name": "python3"
  },
  "language_info": {
   "codemirror_mode": {
    "name": "ipython",
    "version": 3
   },
   "file_extension": ".py",
   "mimetype": "text/x-python",
   "name": "python",
   "nbconvert_exporter": "python",
   "pygments_lexer": "ipython3",
   "version": "3.5.2"
  }
 },
 "nbformat": 4,
 "nbformat_minor": 2
}
