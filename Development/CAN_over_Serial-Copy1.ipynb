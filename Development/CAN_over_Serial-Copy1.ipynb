{
 "cells": [
  {
   "cell_type": "markdown",
   "metadata": {},
   "source": [
    "https://python-can.readthedocs.io/en/2.1.0/interfaces/serial.html"
   ]
  },
  {
   "cell_type": "code",
   "execution_count": 1,
   "metadata": {},
   "outputs": [],
   "source": [
    "import serial"
   ]
  },
  {
   "cell_type": "code",
   "execution_count": 2,
   "metadata": {},
   "outputs": [],
   "source": [
    "ser = serial.Serial(port=\"/dev/ttyUSB0\", baudrate=115200)"
   ]
  },
  {
   "cell_type": "code",
   "execution_count": 9,
   "metadata": {},
   "outputs": [
    {
     "data": {
      "text/plain": [
       "b'\\xaa\\x0c\\x11\"3\\x01\\x01\\x01\\x02\\x03\\x04\\xbb'"
      ]
     },
     "execution_count": 9,
     "metadata": {},
     "output_type": "execute_result"
    }
   ],
   "source": [
    "ser.read_until(b\"\\xBB\")"
   ]
  },
  {
   "cell_type": "code",
   "execution_count": 10,
   "metadata": {},
   "outputs": [],
   "source": [
    "import can\n",
    "import can.interfaces.serial"
   ]
  },
  {
   "cell_type": "code",
   "execution_count": 11,
   "metadata": {},
   "outputs": [],
   "source": [
    "bus = can.interfaces.serial.serial_can.SerialBus(bustype=\"serialbus\", channel=\"/dev/ttyUSB0\", baudrate=115200)"
   ]
  },
  {
   "cell_type": "code",
   "execution_count": 13,
   "metadata": {},
   "outputs": [
    {
     "data": {
      "text/plain": [
       "can.Message(timestamp=857870.63, is_remote_frame=False, extended_id=True, is_error_frame=False, arbitration_id=0x3020101, dlc=1, data=[0x4])"
      ]
     },
     "execution_count": 13,
     "metadata": {},
     "output_type": "execute_result"
    }
   ],
   "source": [
    "bus.recv()"
   ]
  },
  {
   "cell_type": "code",
   "execution_count": 14,
   "metadata": {},
   "outputs": [],
   "source": [
    "packet = bus.recv()"
   ]
  },
  {
   "cell_type": "code",
   "execution_count": 15,
   "metadata": {},
   "outputs": [
    {
     "data": {
      "text/plain": [
       "bytearray(b'\\x04')"
      ]
     },
     "execution_count": 15,
     "metadata": {},
     "output_type": "execute_result"
    }
   ],
   "source": [
    "packet.data"
   ]
  },
  {
   "cell_type": "code",
   "execution_count": 10,
   "metadata": {},
   "outputs": [
    {
     "data": {
      "text/plain": [
       "1526104171.799565"
      ]
     },
     "execution_count": 10,
     "metadata": {},
     "output_type": "execute_result"
    }
   ],
   "source": [
    "packet.timestamp"
   ]
  },
  {
   "cell_type": "code",
   "execution_count": 11,
   "metadata": {},
   "outputs": [
    {
     "data": {
      "text/plain": [
       "256"
      ]
     },
     "execution_count": 11,
     "metadata": {},
     "output_type": "execute_result"
    }
   ],
   "source": [
    "packet.arbitration_id"
   ]
  },
  {
   "cell_type": "code",
   "execution_count": 12,
   "metadata": {},
   "outputs": [
    {
     "name": "stdout",
     "output_type": "stream",
     "text": [
      "Timestamp: 1526104171.799565        ID: 0100    S          DLC: 8    88 99 aa bb cc dd ee ff\n"
     ]
    }
   ],
   "source": [
    "print(packet)"
   ]
  },
  {
   "cell_type": "code",
   "execution_count": 13,
   "metadata": {},
   "outputs": [
    {
     "name": "stdout",
     "output_type": "stream",
     "text": [
      "Timestamp: 1526104172.799755        ID: 0100    S          DLC: 8    88 99 aa bb cc dd ee ff\n",
      "Timestamp: 1526104173.799885        ID: 0100    S          DLC: 8    88 99 aa bb cc dd ee ff\n",
      "Timestamp: 1526104174.800075        ID: 0100    S          DLC: 8    88 99 aa bb cc dd ee ff\n",
      "Timestamp: 1526104175.800265        ID: 0100    S          DLC: 8    88 99 aa bb cc dd ee ff\n",
      "Timestamp: 1526104176.800455        ID: 0100    S          DLC: 8    88 99 aa bb cc dd ee ff\n",
      "Timestamp: 1526104177.800655        ID: 0100    S          DLC: 8    88 99 aa bb cc dd ee ff\n",
      "Timestamp: 1526104178.800845        ID: 0100    S          DLC: 8    88 99 aa bb cc dd ee ff\n",
      "Timestamp: 1526104179.800975        ID: 0100    S          DLC: 8    88 99 aa bb cc dd ee ff\n",
      "Timestamp: 1526104180.801165        ID: 0100    S          DLC: 8    88 99 aa bb cc dd ee ff\n",
      "Timestamp: 1526104181.801355        ID: 0100    S          DLC: 8    88 99 aa bb cc dd ee ff\n",
      "Timestamp: 1526104182.801545        ID: 0100    S          DLC: 8    88 99 aa bb cc dd ee ff\n",
      "Timestamp: 1526104183.801735        ID: 0100    S          DLC: 8    88 99 aa bb cc dd ee ff\n",
      "Timestamp: 1526104184.801935        ID: 0100    S          DLC: 8    88 99 aa bb cc dd ee ff\n",
      "Timestamp: 1526104185.802125        ID: 0100    S          DLC: 8    88 99 aa bb cc dd ee ff\n",
      "Timestamp: 1526104186.802255        ID: 0100    S          DLC: 8    88 99 aa bb cc dd ee ff\n",
      "Timestamp: 1526104187.802445        ID: 0100    S          DLC: 8    88 99 aa bb cc dd ee ff\n",
      "Timestamp: 1526104188.802635        ID: 0100    S          DLC: 8    88 99 aa bb cc dd ee ff\n",
      "Timestamp: 1526104189.802825        ID: 0100    S          DLC: 8    88 99 aa bb cc dd ee ff\n",
      "Timestamp: 1526104190.803015        ID: 0100    S          DLC: 8    88 99 aa bb cc dd ee ff\n",
      "Timestamp: 1526104191.803215        ID: 0100    S          DLC: 8    88 99 aa bb cc dd ee ff\n",
      "Timestamp: 1526104192.803335        ID: 0100    S          DLC: 8    88 99 aa bb cc dd ee ff\n",
      "Timestamp: 1526104193.803535        ID: 0100    S          DLC: 8    88 99 aa bb cc dd ee ff\n",
      "Timestamp: 1526104194.803725        ID: 0100    S          DLC: 8    88 99 aa bb cc dd ee ff\n",
      "Timestamp: 1526104195.803915        ID: 0100    S          DLC: 8    88 99 aa bb cc dd ee ff\n",
      "Timestamp: 1526104196.804105        ID: 0100    S          DLC: 8    88 99 aa bb cc dd ee ff\n",
      "Timestamp: 1526104197.804295        ID: 0100    S          DLC: 8    88 99 aa bb cc dd ee ff\n",
      "Timestamp: 1526104198.804495        ID: 0100    S          DLC: 8    88 99 aa bb cc dd ee ff\n",
      "Timestamp: 1526104199.804615        ID: 0100    S          DLC: 8    88 99 aa bb cc dd ee ff\n",
      "Timestamp: 1526104200.804815        ID: 0100    S          DLC: 8    88 99 aa bb cc dd ee ff\n",
      "Timestamp: 1526104201.805005        ID: 0100    S          DLC: 8    88 99 aa bb cc dd ee ff\n",
      "Timestamp: 1526104202.805195        ID: 0100    S          DLC: 8    88 99 aa bb cc dd ee ff\n",
      "Timestamp: 1526104203.805385        ID: 0100    S          DLC: 8    88 99 aa bb cc dd ee ff\n",
      "Timestamp: 1526104204.805575        ID: 0100    S          DLC: 8    88 99 aa bb cc dd ee ff\n",
      "Timestamp: 1526104205.805705        ID: 0100    S          DLC: 8    88 99 aa bb cc dd ee ff\n",
      "Timestamp: 1526104206.805895        ID: 0100    S          DLC: 8    88 99 aa bb cc dd ee ff\n",
      "Timestamp: 1526104207.806095        ID: 0100    S          DLC: 8    88 99 aa bb cc dd ee ff\n",
      "Timestamp: 1526104208.806285        ID: 0100    S          DLC: 8    88 99 aa bb cc dd ee ff\n",
      "Timestamp: 1526104209.806475        ID: 0100    S          DLC: 8    88 99 aa bb cc dd ee ff\n",
      "Timestamp: 1526104210.806665        ID: 0100    S          DLC: 8    88 99 aa bb cc dd ee ff\n",
      "Timestamp: 1526104211.806855        ID: 0100    S          DLC: 8    88 99 aa bb cc dd ee ff\n",
      "Timestamp: 1526104212.806985        ID: 0100    S          DLC: 8    88 99 aa bb cc dd ee ff\n",
      "Timestamp: 1526104213.807175        ID: 0100    S          DLC: 8    88 99 aa bb cc dd ee ff\n",
      "Timestamp: 1526104214.807375        ID: 0100    S          DLC: 8    88 99 aa bb cc dd ee ff\n",
      "Timestamp: 1526104215.807565        ID: 0100    S          DLC: 8    88 99 aa bb cc dd ee ff\n",
      "Timestamp: 1526104216.807755        ID: 0100    S          DLC: 8    88 99 aa bb cc dd ee ff\n",
      "Timestamp: 1526104217.807945        ID: 0100    S          DLC: 8    88 99 aa bb cc dd ee ff\n",
      "Timestamp: 1526104218.808135        ID: 0100    S          DLC: 8    88 99 aa bb cc dd ee ff\n",
      "Timestamp: 1526104219.808335        ID: 0100    S          DLC: 8    88 99 aa bb cc dd ee ff\n",
      "Timestamp: 1526104220.808455        ID: 0100    S          DLC: 8    88 99 aa bb cc dd ee ff\n",
      "Timestamp: 1526104221.808655        ID: 0100    S          DLC: 8    88 99 aa bb cc dd ee ff\n",
      "Timestamp: 1526104222.808845        ID: 0100    S          DLC: 8    88 99 aa bb cc dd ee ff\n",
      "Timestamp: 1526104223.809035        ID: 0100    S          DLC: 8    88 99 aa bb cc dd ee ff\n",
      "Timestamp: 1526104224.809225        ID: 0100    S          DLC: 8    88 99 aa bb cc dd ee ff\n",
      "Timestamp: 1526104225.809355        ID: 0100    S          DLC: 8    88 99 aa bb cc dd ee ff\n",
      "Timestamp: 1526104226.809545        ID: 0100    S          DLC: 8    88 99 aa bb cc dd ee ff\n",
      "Timestamp: 1526104227.809735        ID: 0100    S          DLC: 8    88 99 aa bb cc dd ee ff\n",
      "Timestamp: 1526104228.809935        ID: 0100    S          DLC: 8    88 99 aa bb cc dd ee ff\n",
      "Timestamp: 1526104229.810125        ID: 0100    S          DLC: 8    88 99 aa bb cc dd ee ff\n",
      "Timestamp: 1526104230.810315        ID: 0100    S          DLC: 8    88 99 aa bb cc dd ee ff\n",
      "Timestamp: 1526104231.810505        ID: 0100    S          DLC: 8    88 99 aa bb cc dd ee ff\n",
      "Timestamp: 1526104232.810695        ID: 0100    S          DLC: 8    88 99 aa bb cc dd ee ff\n",
      "Timestamp: 1526104233.810825        ID: 0100    S          DLC: 8    88 99 aa bb cc dd ee ff\n",
      "Timestamp: 1526104234.811015        ID: 0100    S          DLC: 8    88 99 aa bb cc dd ee ff\n",
      "Timestamp: 1526104235.811215        ID: 0100    S          DLC: 8    88 99 aa bb cc dd ee ff\n",
      "Timestamp: 1526104236.811405        ID: 0100    S          DLC: 8    88 99 aa bb cc dd ee ff\n",
      "Timestamp: 1526104237.811595        ID: 0100    S          DLC: 8    88 99 aa bb cc dd ee ff\n",
      "Timestamp: 1526104238.811785        ID: 0100    S          DLC: 8    88 99 aa bb cc dd ee ff\n",
      "Timestamp: 1526104239.811975        ID: 0100    S          DLC: 8    88 99 aa bb cc dd ee ff\n",
      "Timestamp: 1526104240.812105        ID: 0100    S          DLC: 8    88 99 aa bb cc dd ee ff\n",
      "Timestamp: 1526104241.812295        ID: 0100    S          DLC: 8    88 99 aa bb cc dd ee ff\n",
      "Timestamp: 1526104242.812495        ID: 0100    S          DLC: 8    88 99 aa bb cc dd ee ff\n",
      "Timestamp: 1526104243.812685        ID: 0100    S          DLC: 8    88 99 aa bb cc dd ee ff\n",
      "Timestamp: 1526104244.812875        ID: 0100    S          DLC: 8    88 99 aa bb cc dd ee ff\n",
      "Timestamp: 1526104245.813065        ID: 0100    S          DLC: 8    88 99 aa bb cc dd ee ff\n",
      "Timestamp: 1526104246.813195        ID: 0100    S          DLC: 8    88 99 aa bb cc dd ee ff\n",
      "Timestamp: 1526104247.813385        ID: 0100    S          DLC: 8    88 99 aa bb cc dd ee ff\n",
      "Timestamp: 1526104248.813575        ID: 0100    S          DLC: 8    88 99 aa bb cc dd ee ff\n",
      "Timestamp: 1526104249.813775        ID: 0100    S          DLC: 8    88 99 aa bb cc dd ee ff\n",
      "Timestamp: 1526104250.813965        ID: 0100    S          DLC: 8    88 99 aa bb cc dd ee ff\n",
      "Timestamp: 1526104251.814155        ID: 0100    S          DLC: 8    88 99 aa bb cc dd ee ff\n",
      "Timestamp: 1526104252.814285        ID: 0100    S          DLC: 8    88 99 aa bb cc dd ee ff\n",
      "Timestamp: 1526104253.814475        ID: 0100    S          DLC: 8    88 99 aa bb cc dd ee ff\n",
      "Timestamp: 1526104254.814665        ID: 0100    S          DLC: 8    88 99 aa bb cc dd ee ff\n",
      "Timestamp: 1526104255.814855        ID: 0100    S          DLC: 8    88 99 aa bb cc dd ee ff\n",
      "Timestamp: 1526104256.815055        ID: 0100    S          DLC: 8    88 99 aa bb cc dd ee ff\n",
      "Timestamp: 1526104257.815245        ID: 0100    S          DLC: 8    88 99 aa bb cc dd ee ff\n",
      "Timestamp: 1526104258.815435        ID: 0100    S          DLC: 8    88 99 aa bb cc dd ee ff\n",
      "Timestamp: 1526104259.815565        ID: 0100    S          DLC: 8    88 99 aa bb cc dd ee ff\n",
      "Timestamp: 1526104260.815755        ID: 0100    S          DLC: 8    88 99 aa bb cc dd ee ff\n",
      "Timestamp: 1526104261.815945        ID: 0100    S          DLC: 8    88 99 aa bb cc dd ee ff\n",
      "Timestamp: 1526104262.816135        ID: 0100    S          DLC: 8    88 99 aa bb cc dd ee ff\n",
      "Timestamp: 1526104263.816335        ID: 0100    S          DLC: 8    88 99 aa bb cc dd ee ff\n",
      "Timestamp: 1526104264.816525        ID: 0100    S          DLC: 8    88 99 aa bb cc dd ee ff\n",
      "Timestamp: 1526104265.816715        ID: 0100    S          DLC: 8    88 99 aa bb cc dd ee ff\n",
      "Timestamp: 1526104266.816905        ID: 0100    S          DLC: 8    88 99 aa bb cc dd ee ff\n",
      "Timestamp: 1526104267.817035        ID: 0100    S          DLC: 8    88 99 aa bb cc dd ee ff\n",
      "Timestamp: 1526104268.817225        ID: 0100    S          DLC: 8    88 99 aa bb cc dd ee ff\n",
      "Timestamp: 1526104269.817415        ID: 0100    S          DLC: 8    88 99 aa bb cc dd ee ff\n",
      "Timestamp: 1526104270.817615        ID: 0100    S          DLC: 8    88 99 aa bb cc dd ee ff\n",
      "Timestamp: 1526104271.817805        ID: 0100    S          DLC: 8    88 99 aa bb cc dd ee ff\n",
      "Timestamp: 1526104272.817935        ID: 0100    S          DLC: 8    88 99 aa bb cc dd ee ff\n",
      "Timestamp: 1526104273.818125        ID: 0100    S          DLC: 8    88 99 aa bb cc dd ee ff\n",
      "Timestamp: 1526104274.818315        ID: 0100    S          DLC: 8    88 99 aa bb cc dd ee ff\n",
      "Timestamp: 1526104275.818505        ID: 0100    S          DLC: 8    88 99 aa bb cc dd ee ff\n",
      "Timestamp: 1526104276.818695        ID: 0100    S          DLC: 8    88 99 aa bb cc dd ee ff\n",
      "Timestamp: 1526104277.818895        ID: 0100    S          DLC: 8    88 99 aa bb cc dd ee ff\n",
      "Timestamp: 1526104278.819085        ID: 0100    S          DLC: 8    88 99 aa bb cc dd ee ff\n",
      "Timestamp: 1526104279.819215        ID: 0100    S          DLC: 8    88 99 aa bb cc dd ee ff\n",
      "Timestamp: 1526104280.819405        ID: 0100    S          DLC: 8    88 99 aa bb cc dd ee ff\n",
      "Timestamp: 1526104281.819595        ID: 0100    S          DLC: 8    88 99 aa bb cc dd ee ff\n",
      "Timestamp: 1526104282.819785        ID: 0100    S          DLC: 8    88 99 aa bb cc dd ee ff\n",
      "Timestamp: 1526104283.819975        ID: 0100    S          DLC: 8    88 99 aa bb cc dd ee ff\n",
      "Timestamp: 1526104284.820175        ID: 0100    S          DLC: 8    88 99 aa bb cc dd ee ff\n",
      "Timestamp: 1526104285.820365        ID: 0100    S          DLC: 8    88 99 aa bb cc dd ee ff\n",
      "Timestamp: 1526104286.820495        ID: 0100    S          DLC: 8    88 99 aa bb cc dd ee ff\n",
      "Timestamp: 1526104287.820685        ID: 0100    S          DLC: 8    88 99 aa bb cc dd ee ff\n",
      "Timestamp: 1526104288.820875        ID: 0100    S          DLC: 8    88 99 aa bb cc dd ee ff\n",
      "Timestamp: 1526104289.821065        ID: 0100    S          DLC: 8    88 99 aa bb cc dd ee ff\n",
      "Timestamp: 1526104290.821255        ID: 0100    S          DLC: 8    88 99 aa bb cc dd ee ff\n",
      "Timestamp: 1526104291.821455        ID: 0100    S          DLC: 8    88 99 aa bb cc dd ee ff\n",
      "Timestamp: 1526104292.821575        ID: 0100    S          DLC: 8    88 99 aa bb cc dd ee ff\n",
      "Timestamp: 1526104293.821775        ID: 0100    S          DLC: 8    88 99 aa bb cc dd ee ff\n",
      "Timestamp: 1526104294.821965        ID: 0100    S          DLC: 8    88 99 aa bb cc dd ee ff\n",
      "Timestamp: 1526104295.822155        ID: 0100    S          DLC: 8    88 99 aa bb cc dd ee ff\n",
      "Timestamp: 1526104296.822345        ID: 0100    S          DLC: 8    88 99 aa bb cc dd ee ff\n",
      "Timestamp: 1526104297.822535        ID: 0100    S          DLC: 8    88 99 aa bb cc dd ee ff\n",
      "Timestamp: 1526104298.822735        ID: 0100    S          DLC: 8    88 99 aa bb cc dd ee ff\n",
      "Timestamp: 1526104299.822855        ID: 0100    S          DLC: 8    88 99 aa bb cc dd ee ff\n",
      "Timestamp: 1526104300.823055        ID: 0100    S          DLC: 8    88 99 aa bb cc dd ee ff\n",
      "Timestamp: 1526104301.823245        ID: 0100    S          DLC: 8    88 99 aa bb cc dd ee ff\n",
      "Timestamp: 1526104302.823435        ID: 0100    S          DLC: 8    88 99 aa bb cc dd ee ff\n",
      "Timestamp: 1526104303.823625        ID: 0100    S          DLC: 8    88 99 aa bb cc dd ee ff\n",
      "Timestamp: 1526104304.823815        ID: 0100    S          DLC: 8    88 99 aa bb cc dd ee ff\n",
      "Timestamp: 1526104305.823945        ID: 0100    S          DLC: 8    88 99 aa bb cc dd ee ff\n",
      "Timestamp: 1526104306.824135        ID: 0100    S          DLC: 8    88 99 aa bb cc dd ee ff\n",
      "Timestamp: 1526104307.824335        ID: 0100    S          DLC: 8    88 99 aa bb cc dd ee ff\n",
      "Timestamp: 1526104308.824525        ID: 0100    S          DLC: 8    88 99 aa bb cc dd ee ff\n",
      "Timestamp: 1526104309.824715        ID: 0100    S          DLC: 8    88 99 aa bb cc dd ee ff\n",
      "Timestamp: 1526104310.824905        ID: 0100    S          DLC: 8    88 99 aa bb cc dd ee ff\n",
      "Timestamp: 1526104311.825095        ID: 0100    S          DLC: 8    88 99 aa bb cc dd ee ff\n",
      "Timestamp: 1526104312.825225        ID: 0100    S          DLC: 8    88 99 aa bb cc dd ee ff\n",
      "Timestamp: 1526104313.825415        ID: 0100    S          DLC: 8    88 99 aa bb cc dd ee ff\n",
      "Timestamp: 1526104314.825615        ID: 0100    S          DLC: 8    88 99 aa bb cc dd ee ff\n",
      "Timestamp: 1526104315.825805        ID: 0100    S          DLC: 8    88 99 aa bb cc dd ee ff\n",
      "Timestamp: 1526104316.825995        ID: 0100    S          DLC: 8    88 99 aa bb cc dd ee ff\n",
      "Timestamp: 1526104317.826185        ID: 0100    S          DLC: 8    88 99 aa bb cc dd ee ff\n",
      "Timestamp: 1526104318.826375        ID: 0100    S          DLC: 8    88 99 aa bb cc dd ee ff\n",
      "Timestamp: 1526104319.826505        ID: 0100    S          DLC: 8    88 99 aa bb cc dd ee ff\n",
      "Timestamp: 1526104320.826695        ID: 0100    S          DLC: 8    88 99 aa bb cc dd ee ff\n",
      "Timestamp: 1526104321.826895        ID: 0100    S          DLC: 8    88 99 aa bb cc dd ee ff\n",
      "Timestamp: 1526104322.827085        ID: 0100    S          DLC: 8    88 99 aa bb cc dd ee ff\n",
      "Timestamp: 1526104323.827275        ID: 0100    S          DLC: 8    88 99 aa bb cc dd ee ff\n",
      "Timestamp: 1526104324.827465        ID: 0100    S          DLC: 8    88 99 aa bb cc dd ee ff\n",
      "Timestamp: 1526104325.827655        ID: 0100    S          DLC: 8    88 99 aa bb cc dd ee ff\n",
      "Timestamp: 1526104326.827855        ID: 0100    S          DLC: 8    88 99 aa bb cc dd ee ff\n",
      "Timestamp: 1526104327.827975        ID: 0100    S          DLC: 8    88 99 aa bb cc dd ee ff\n",
      "Timestamp: 1526104328.828175        ID: 0100    S          DLC: 8    88 99 aa bb cc dd ee ff\n",
      "Timestamp: 1526104329.828365        ID: 0100    S          DLC: 8    88 99 aa bb cc dd ee ff\n",
      "Timestamp: 1526104330.828555        ID: 0100    S          DLC: 8    88 99 aa bb cc dd ee ff\n",
      "Timestamp: 1526104331.828745        ID: 0100    S          DLC: 8    88 99 aa bb cc dd ee ff\n",
      "Timestamp: 1526104332.828935        ID: 0100    S          DLC: 8    88 99 aa bb cc dd ee ff\n",
      "Timestamp: 1526104333.829065        ID: 0100    S          DLC: 8    88 99 aa bb cc dd ee ff\n",
      "Timestamp: 1526104334.829255        ID: 0100    S          DLC: 8    88 99 aa bb cc dd ee ff\n",
      "Timestamp: 1526104335.829455        ID: 0100    S          DLC: 8    88 99 aa bb cc dd ee ff\n",
      "Timestamp: 1526104336.829645        ID: 0100    S          DLC: 8    88 99 aa bb cc dd ee ff\n",
      "Timestamp: 1526104337.829835        ID: 0100    S          DLC: 8    88 99 aa bb cc dd ee ff\n",
      "Timestamp: 1526104338.830025        ID: 0100    S          DLC: 8    88 99 aa bb cc dd ee ff\n",
      "Timestamp: 1526104339.830215        ID: 0100    S          DLC: 8    88 99 aa bb cc dd ee ff\n",
      "Timestamp: 1526104340.830345        ID: 0100    S          DLC: 8    88 99 aa bb cc dd ee ff\n",
      "Timestamp: 1526104341.830535        ID: 0100    S          DLC: 8    88 99 aa bb cc dd ee ff\n",
      "Timestamp: 1526104342.830735        ID: 0100    S          DLC: 8    88 99 aa bb cc dd ee ff\n",
      "Timestamp: 1526104343.830925        ID: 0100    S          DLC: 8    88 99 aa bb cc dd ee ff\n",
      "Timestamp: 1526104344.831115        ID: 0100    S          DLC: 8    88 99 aa bb cc dd ee ff\n",
      "Timestamp: 1526104345.831305        ID: 0100    S          DLC: 8    88 99 aa bb cc dd ee ff\n",
      "Timestamp: 1526104346.831435        ID: 0100    S          DLC: 8    88 99 aa bb cc dd ee ff\n",
      "Timestamp: 1526104347.831625        ID: 0100    S          DLC: 8    88 99 aa bb cc dd ee ff\n",
      "Timestamp: 1526104348.831815        ID: 0100    S          DLC: 8    88 99 aa bb cc dd ee ff\n",
      "Timestamp: 1526104349.832015        ID: 0100    S          DLC: 8    88 99 aa bb cc dd ee ff\n",
      "Timestamp: 1526104350.832205        ID: 0100    S          DLC: 8    88 99 aa bb cc dd ee ff\n",
      "Timestamp: 1526104351.832395        ID: 0100    S          DLC: 8    88 99 aa bb cc dd ee ff\n",
      "Timestamp: 1526104352.832585        ID: 0100    S          DLC: 8    88 99 aa bb cc dd ee ff\n",
      "Timestamp: 1526104353.832715        ID: 0100    S          DLC: 8    88 99 aa bb cc dd ee ff\n",
      "Timestamp: 1526104354.832905        ID: 0100    S          DLC: 8    88 99 aa bb cc dd ee ff\n",
      "Timestamp: 1526104355.833095        ID: 0100    S          DLC: 8    88 99 aa bb cc dd ee ff\n",
      "Timestamp: 1526104356.833295        ID: 0100    S          DLC: 8    88 99 aa bb cc dd ee ff\n",
      "Timestamp: 1526104357.833485        ID: 0100    S          DLC: 8    88 99 aa bb cc dd ee ff\n",
      "Timestamp: 1526104358.833675        ID: 0100    S          DLC: 8    88 99 aa bb cc dd ee ff\n",
      "Timestamp: 1526104359.833865        ID: 0100    S          DLC: 8    88 99 aa bb cc dd ee ff\n",
      "Timestamp: 1526104360.834055        ID: 0100    S          DLC: 8    88 99 aa bb cc dd ee ff\n",
      "Timestamp: 1526104361.834185        ID: 0100    S          DLC: 8    88 99 aa bb cc dd ee ff\n",
      "Timestamp: 1526104362.834375        ID: 0100    S          DLC: 8    88 99 aa bb cc dd ee ff\n",
      "Timestamp: 1526104363.834575        ID: 0100    S          DLC: 8    88 99 aa bb cc dd ee ff\n",
      "Timestamp: 1526104364.834765        ID: 0100    S          DLC: 8    88 99 aa bb cc dd ee ff\n",
      "Timestamp: 1526104365.834955        ID: 0100    S          DLC: 8    88 99 aa bb cc dd ee ff\n",
      "Timestamp: 1526104366.835085        ID: 0100    S          DLC: 8    88 99 aa bb cc dd ee ff\n",
      "Timestamp: 1526104367.835275        ID: 0100    S          DLC: 8    88 99 aa bb cc dd ee ff\n",
      "Timestamp: 1526104368.835465        ID: 0100    S          DLC: 8    88 99 aa bb cc dd ee ff\n",
      "Timestamp: 1526104369.835655        ID: 0100    S          DLC: 8    88 99 aa bb cc dd ee ff\n",
      "Timestamp: 1526104370.835855        ID: 0100    S          DLC: 8    88 99 aa bb cc dd ee ff\n",
      "Timestamp: 1526104371.836045        ID: 0100    S          DLC: 8    88 99 aa bb cc dd ee ff\n",
      "Timestamp: 1526104372.836235        ID: 0100    S          DLC: 8    88 99 aa bb cc dd ee ff\n",
      "Timestamp: 1526104373.836365        ID: 0100    S          DLC: 8    88 99 aa bb cc dd ee ff\n",
      "Timestamp: 1526104374.836555        ID: 0100    S          DLC: 8    88 99 aa bb cc dd ee ff\n",
      "Timestamp: 1526104375.836745        ID: 0100    S          DLC: 8    88 99 aa bb cc dd ee ff\n",
      "Timestamp: 1526104376.836935        ID: 0100    S          DLC: 8    88 99 aa bb cc dd ee ff\n",
      "Timestamp: 1526104377.837135        ID: 0100    S          DLC: 8    88 99 aa bb cc dd ee ff\n",
      "Timestamp: 1526104378.837255        ID: 0100    S          DLC: 8    88 99 aa bb cc dd ee ff\n",
      "Timestamp: 1526104379.837455        ID: 0100    S          DLC: 8    88 99 aa bb cc dd ee ff\n",
      "Timestamp: 1526104380.837645        ID: 0100    S          DLC: 8    88 99 aa bb cc dd ee ff\n",
      "Timestamp: 1526104381.837835        ID: 0100    S          DLC: 8    88 99 aa bb cc dd ee ff\n",
      "Timestamp: 1526104382.838025        ID: 0100    S          DLC: 8    88 99 aa bb cc dd ee ff\n",
      "Timestamp: 1526104383.838215        ID: 0100    S          DLC: 8    88 99 aa bb cc dd ee ff\n",
      "Timestamp: 1526104384.838415        ID: 0100    S          DLC: 8    88 99 aa bb cc dd ee ff\n",
      "Timestamp: 1526104385.838535        ID: 0100    S          DLC: 8    88 99 aa bb cc dd ee ff\n",
      "Timestamp: 1526104386.838735        ID: 0100    S          DLC: 8    88 99 aa bb cc dd ee ff\n",
      "Timestamp: 1526104387.838925        ID: 0100    S          DLC: 8    88 99 aa bb cc dd ee ff\n",
      "Timestamp: 1526104388.839115        ID: 0100    S          DLC: 8    88 99 aa bb cc dd ee ff\n",
      "Timestamp: 1526104389.839305        ID: 0100    S          DLC: 8    88 99 aa bb cc dd ee ff\n",
      "Timestamp: 1526104390.839495        ID: 0100    S          DLC: 8    88 99 aa bb cc dd ee ff\n",
      "Timestamp: 1526104391.839695        ID: 0100    S          DLC: 8    88 99 aa bb cc dd ee ff\n",
      "Timestamp: 1526104392.839885        ID: 0100    S          DLC: 8    88 99 aa bb cc dd ee ff\n",
      "Timestamp: 1526104393.840015        ID: 0100    S          DLC: 8    88 99 aa bb cc dd ee ff\n",
      "Timestamp: 1526104394.840205        ID: 0100    S          DLC: 8    88 99 aa bb cc dd ee ff\n",
      "Timestamp: 1526104395.840395        ID: 0100    S          DLC: 8    88 99 aa bb cc dd ee ff\n",
      "Timestamp: 1526104396.840585        ID: 0100    S          DLC: 8    88 99 aa bb cc dd ee ff\n",
      "Timestamp: 1526104397.840775        ID: 0100    S          DLC: 8    88 99 aa bb cc dd ee ff\n",
      "Timestamp: 1526104398.840905        ID: 0100    S          DLC: 8    88 99 aa bb cc dd ee ff\n",
      "Timestamp: 1526104399.841095        ID: 0100    S          DLC: 8    88 99 aa bb cc dd ee ff\n",
      "Timestamp: 1526104400.841295        ID: 0100    S          DLC: 8    88 99 aa bb cc dd ee ff\n",
      "Timestamp: 1526104401.841485        ID: 0100    S          DLC: 8    88 99 aa bb cc dd ee ff\n",
      "Timestamp: 1526104402.841675        ID: 0100    S          DLC: 8    88 99 aa bb cc dd ee ff\n",
      "Timestamp: 1526104403.841865        ID: 0100    S          DLC: 8    88 99 aa bb cc dd ee ff\n",
      "Timestamp: 1526104404.842055        ID: 0100    S          DLC: 8    88 99 aa bb cc dd ee ff\n",
      "Timestamp: 1526104405.842185        ID: 0100    S          DLC: 8    88 99 aa bb cc dd ee ff\n",
      "Timestamp: 1526104406.842375        ID: 0100    S          DLC: 8    88 99 aa bb cc dd ee ff\n",
      "Timestamp: 1526104407.842575        ID: 0100    S          DLC: 8    88 99 aa bb cc dd ee ff\n",
      "Timestamp: 1526104408.842765        ID: 0100    S          DLC: 8    88 99 aa bb cc dd ee ff\n",
      "Timestamp: 1526104409.842955        ID: 0100    S          DLC: 8    88 99 aa bb cc dd ee ff\n",
      "Timestamp: 1526104410.843145        ID: 0100    S          DLC: 8    88 99 aa bb cc dd ee ff\n",
      "Timestamp: 1526104411.843275        ID: 0100    S          DLC: 8    88 99 aa bb cc dd ee ff\n",
      "Timestamp: 1526104412.843465        ID: 0100    S          DLC: 8    88 99 aa bb cc dd ee ff\n",
      "Timestamp: 1526104413.843655        ID: 0100    S          DLC: 8    88 99 aa bb cc dd ee ff\n",
      "Timestamp: 1526104414.843855        ID: 0100    S          DLC: 8    88 99 aa bb cc dd ee ff\n",
      "Timestamp: 1526104415.844045        ID: 0100    S          DLC: 8    88 99 aa bb cc dd ee ff\n",
      "Timestamp: 1526104416.844235        ID: 0100    S          DLC: 8    88 99 aa bb cc dd ee ff\n",
      "Timestamp: 1526104417.844365        ID: 0100    S          DLC: 8    88 99 aa bb cc dd ee ff\n",
      "Timestamp: 1526104418.844555        ID: 0100    S          DLC: 8    88 99 aa bb cc dd ee ff\n",
      "Timestamp: 1526104419.844745        ID: 0100    S          DLC: 8    88 99 aa bb cc dd ee ff\n",
      "Timestamp: 1526104420.844935        ID: 0100    S          DLC: 8    88 99 aa bb cc dd ee ff\n",
      "Timestamp: 1526104421.845135        ID: 0100    S          DLC: 8    88 99 aa bb cc dd ee ff\n",
      "Timestamp: 1526104422.845255        ID: 0100    S          DLC: 8    88 99 aa bb cc dd ee ff\n",
      "Timestamp: 1526104423.845455        ID: 0100    S          DLC: 8    88 99 aa bb cc dd ee ff\n",
      "Timestamp: 1526104424.845645        ID: 0100    S          DLC: 8    88 99 aa bb cc dd ee ff\n",
      "Timestamp: 1526104425.845835        ID: 0100    S          DLC: 8    88 99 aa bb cc dd ee ff\n",
      "Timestamp: 1526104426.846025        ID: 0100    S          DLC: 8    88 99 aa bb cc dd ee ff\n",
      "Timestamp: 1526104427.846215        ID: 0100    S          DLC: 8    88 99 aa bb cc dd ee ff\n",
      "Timestamp: 1526104428.846345        ID: 0100    S          DLC: 8    88 99 aa bb cc dd ee ff\n",
      "Timestamp: 1526104429.846535        ID: 0100    S          DLC: 8    88 99 aa bb cc dd ee ff\n",
      "Timestamp: 1526104430.846735        ID: 0100    S          DLC: 8    88 99 aa bb cc dd ee ff\n",
      "Timestamp: 1526104431.846925        ID: 0100    S          DLC: 8    88 99 aa bb cc dd ee ff\n",
      "Timestamp: 1526104432.847115        ID: 0100    S          DLC: 8    88 99 aa bb cc dd ee ff\n",
      "Timestamp: 1526104433.847305        ID: 0100    S          DLC: 8    88 99 aa bb cc dd ee ff\n",
      "Timestamp: 1526104434.847495        ID: 0100    S          DLC: 8    88 99 aa bb cc dd ee ff\n",
      "Timestamp: 1526104435.847625        ID: 0100    S          DLC: 8    88 99 aa bb cc dd ee ff\n",
      "Timestamp: 1526104436.847815        ID: 0100    S          DLC: 8    88 99 aa bb cc dd ee ff\n",
      "Timestamp: 1526104437.848015        ID: 0100    S          DLC: 8    88 99 aa bb cc dd ee ff\n",
      "Timestamp: 1526104438.848205        ID: 0100    S          DLC: 8    88 99 aa bb cc dd ee ff\n",
      "Timestamp: 1526104439.848395        ID: 0100    S          DLC: 8    88 99 aa bb cc dd ee ff\n",
      "Timestamp: 1526104440.848585        ID: 0100    S          DLC: 8    88 99 aa bb cc dd ee ff\n",
      "Timestamp: 1526104441.848775        ID: 0100    S          DLC: 8    88 99 aa bb cc dd ee ff\n",
      "Timestamp: 1526104442.848905        ID: 0100    S          DLC: 8    88 99 aa bb cc dd ee ff\n",
      "Timestamp: 1526104443.849095        ID: 0100    S          DLC: 8    88 99 aa bb cc dd ee ff\n",
      "Timestamp: 1526104444.849295        ID: 0100    S          DLC: 8    88 99 aa bb cc dd ee ff\n",
      "Timestamp: 1526104445.849485        ID: 0100    S          DLC: 8    88 99 aa bb cc dd ee ff\n",
      "Timestamp: 1526104446.849615        ID: 0100    S          DLC: 8    88 99 aa bb cc dd ee ff\n",
      "Timestamp: 1526104447.849805        ID: 0100    S          DLC: 8    88 99 aa bb cc dd ee ff\n",
      "Timestamp: 1526104448.849995        ID: 0100    S          DLC: 8    88 99 aa bb cc dd ee ff\n",
      "Timestamp: 1526104449.850185        ID: 0100    S          DLC: 8    88 99 aa bb cc dd ee ff\n",
      "Timestamp: 1526104450.850375        ID: 0100    S          DLC: 8    88 99 aa bb cc dd ee ff\n",
      "Timestamp: 1526104451.850575        ID: 0100    S          DLC: 8    88 99 aa bb cc dd ee ff\n",
      "Timestamp: 1526104452.850765        ID: 0100    S          DLC: 8    88 99 aa bb cc dd ee ff\n",
      "Timestamp: 1526104453.850955        ID: 0100    S          DLC: 8    88 99 aa bb cc dd ee ff\n",
      "Timestamp: 1526104454.851085        ID: 0100    S          DLC: 8    88 99 aa bb cc dd ee ff\n",
      "Timestamp: 1526104455.851275        ID: 0100    S          DLC: 8    88 99 aa bb cc dd ee ff\n",
      "Timestamp: 1526104456.851465        ID: 0100    S          DLC: 8    88 99 aa bb cc dd ee ff\n",
      "Timestamp: 1526104457.851655        ID: 0100    S          DLC: 8    88 99 aa bb cc dd ee ff\n",
      "Timestamp: 1526104458.851855        ID: 0100    S          DLC: 8    88 99 aa bb cc dd ee ff\n",
      "Timestamp: 1526104459.852045        ID: 0100    S          DLC: 8    88 99 aa bb cc dd ee ff\n",
      "Timestamp: 1526104460.852175        ID: 0100    S          DLC: 8    88 99 aa bb cc dd ee ff\n",
      "Timestamp: 1526104461.852365        ID: 0100    S          DLC: 8    88 99 aa bb cc dd ee ff\n",
      "Timestamp: 1526104462.852555        ID: 0100    S          DLC: 8    88 99 aa bb cc dd ee ff\n",
      "Timestamp: 1526104463.852745        ID: 0100    S          DLC: 8    88 99 aa bb cc dd ee ff\n",
      "Timestamp: 1526104464.852935        ID: 0100    S          DLC: 8    88 99 aa bb cc dd ee ff\n",
      "Timestamp: 1526104465.853135        ID: 0100    S          DLC: 8    88 99 aa bb cc dd ee ff\n",
      "Timestamp: 1526104466.853325        ID: 0100    S          DLC: 8    88 99 aa bb cc dd ee ff\n",
      "Timestamp: 1526104467.853455        ID: 0100    S          DLC: 8    88 99 aa bb cc dd ee ff\n",
      "Timestamp: 1526104468.853645        ID: 0100    S          DLC: 8    88 99 aa bb cc dd ee ff\n",
      "Timestamp: 1526104469.853835        ID: 0100    S          DLC: 8    88 99 aa bb cc dd ee ff\n",
      "Timestamp: 1526104470.854025        ID: 0100    S          DLC: 8    88 99 aa bb cc dd ee ff\n",
      "Timestamp: 1526104471.854215        ID: 0100    S          DLC: 8    88 99 aa bb cc dd ee ff\n",
      "Timestamp: 1526104472.854415        ID: 0100    S          DLC: 8    88 99 aa bb cc dd ee ff\n",
      "Timestamp: 1526104473.854535        ID: 0100    S          DLC: 8    88 99 aa bb cc dd ee ff\n",
      "Timestamp: 1526104474.854735        ID: 0100    S          DLC: 8    88 99 aa bb cc dd ee ff\n",
      "Timestamp: 1526104475.854925        ID: 0100    S          DLC: 8    88 99 aa bb cc dd ee ff\n",
      "Timestamp: 1526104476.855115        ID: 0100    S          DLC: 8    88 99 aa bb cc dd ee ff\n",
      "Timestamp: 1526104477.855305        ID: 0100    S          DLC: 8    88 99 aa bb cc dd ee ff\n",
      "Timestamp: 1526104478.855495        ID: 0100    S          DLC: 8    88 99 aa bb cc dd ee ff\n",
      "Timestamp: 1526104479.855625        ID: 0100    S          DLC: 8    88 99 aa bb cc dd ee ff\n",
      "Timestamp: 1526104480.855815        ID: 0100    S          DLC: 8    88 99 aa bb cc dd ee ff\n",
      "Timestamp: 1526104481.856015        ID: 0100    S          DLC: 8    88 99 aa bb cc dd ee ff\n",
      "Timestamp: 1526104482.856205        ID: 0100    S          DLC: 8    88 99 aa bb cc dd ee ff\n",
      "Timestamp: 1526104483.856395        ID: 0100    S          DLC: 8    88 99 aa bb cc dd ee ff\n",
      "Timestamp: 1526104484.856585        ID: 0100    S          DLC: 8    88 99 aa bb cc dd ee ff\n",
      "Timestamp: 1526104485.856715        ID: 0100    S          DLC: 8    88 99 aa bb cc dd ee ff\n",
      "Timestamp: 1526104486.856905        ID: 0100    S          DLC: 8    88 99 aa bb cc dd ee ff\n",
      "Timestamp: 1526104487.857095        ID: 0100    S          DLC: 8    88 99 aa bb cc dd ee ff\n",
      "Timestamp: 1526104488.857295        ID: 0100    S          DLC: 8    88 99 aa bb cc dd ee ff\n",
      "Timestamp: 1526104489.857485        ID: 0100    S          DLC: 8    88 99 aa bb cc dd ee ff\n",
      "Timestamp: 1526104490.857675        ID: 0100    S          DLC: 8    88 99 aa bb cc dd ee ff\n",
      "Timestamp: 1526104491.857805        ID: 0100    S          DLC: 8    88 99 aa bb cc dd ee ff\n",
      "Timestamp: 1526104492.857995        ID: 0100    S          DLC: 8    88 99 aa bb cc dd ee ff\n",
      "Timestamp: 1526104493.858185        ID: 0100    S          DLC: 8    88 99 aa bb cc dd ee ff\n",
      "Timestamp: 1526104494.858375        ID: 0100    S          DLC: 8    88 99 aa bb cc dd ee ff\n",
      "Timestamp: 1526104495.858575        ID: 0100    S          DLC: 8    88 99 aa bb cc dd ee ff\n",
      "Timestamp: 1526104496.858765        ID: 0100    S          DLC: 8    88 99 aa bb cc dd ee ff\n",
      "Timestamp: 1526104497.858955        ID: 0100    S          DLC: 8    88 99 aa bb cc dd ee ff\n",
      "Timestamp: 1526104498.859085        ID: 0100    S          DLC: 8    88 99 aa bb cc dd ee ff\n",
      "Timestamp: 1526104499.859275        ID: 0100    S          DLC: 8    88 99 aa bb cc dd ee ff\n",
      "Timestamp: 1526104500.859465        ID: 0100    S          DLC: 8    88 99 aa bb cc dd ee ff\n",
      "Timestamp: 1526104501.859655        ID: 0100    S          DLC: 8    88 99 aa bb cc dd ee ff\n",
      "Timestamp: 1526104502.859855        ID: 0100    S          DLC: 8    88 99 aa bb cc dd ee ff\n",
      "Timestamp: 1526104503.860045        ID: 0100    S          DLC: 8    88 99 aa bb cc dd ee ff\n",
      "Timestamp: 1526104504.860175        ID: 0100    S          DLC: 8    88 99 aa bb cc dd ee ff\n",
      "Timestamp: 1526104505.860365        ID: 0100    S          DLC: 8    88 99 aa bb cc dd ee ff\n",
      "Timestamp: 1526104506.860555        ID: 0100    S          DLC: 8    88 99 aa bb cc dd ee ff\n",
      "Timestamp: 1526104507.860745        ID: 0100    S          DLC: 8    88 99 aa bb cc dd ee ff\n",
      "Timestamp: 1526104508.860935        ID: 0100    S          DLC: 8    88 99 aa bb cc dd ee ff\n",
      "Timestamp: 1526104509.861135        ID: 0100    S          DLC: 8    88 99 aa bb cc dd ee ff\n",
      "Timestamp: 1526104510.861255        ID: 0100    S          DLC: 8    88 99 aa bb cc dd ee ff\n",
      "Timestamp: 1526104511.861455        ID: 0100    S          DLC: 8    88 99 aa bb cc dd ee ff\n",
      "Timestamp: 1526104512.861645        ID: 0100    S          DLC: 8    88 99 aa bb cc dd ee ff\n",
      "Timestamp: 1526104513.861835        ID: 0100    S          DLC: 8    88 99 aa bb cc dd ee ff\n",
      "Timestamp: 1526104514.862025        ID: 0100    S          DLC: 8    88 99 aa bb cc dd ee ff\n",
      "Timestamp: 1526104515.862215        ID: 0100    S          DLC: 8    88 99 aa bb cc dd ee ff\n",
      "Timestamp: 1526104516.862345        ID: 0100    S          DLC: 8    88 99 aa bb cc dd ee ff\n",
      "Timestamp: 1526104517.862535        ID: 0100    S          DLC: 8    88 99 aa bb cc dd ee ff\n",
      "Timestamp: 1526104518.862735        ID: 0100    S          DLC: 8    88 99 aa bb cc dd ee ff\n",
      "Timestamp: 1526104519.862925        ID: 0100    S          DLC: 8    88 99 aa bb cc dd ee ff\n",
      "Timestamp: 1526104520.863115        ID: 0100    S          DLC: 8    88 99 aa bb cc dd ee ff\n",
      "Timestamp: 1526104521.863305        ID: 0100    S          DLC: 8    88 99 aa bb cc dd ee ff\n",
      "Timestamp: 1526104522.863435        ID: 0100    S          DLC: 8    88 99 aa bb cc dd ee ff\n",
      "Timestamp: 1526104523.863625        ID: 0100    S          DLC: 8    88 99 aa bb cc dd ee ff\n",
      "Timestamp: 1526104524.863815        ID: 0100    S          DLC: 8    88 99 aa bb cc dd ee ff\n",
      "Timestamp: 1526104525.864015        ID: 0100    S          DLC: 8    88 99 aa bb cc dd ee ff\n",
      "Timestamp: 1526104526.864205        ID: 0100    S          DLC: 8    88 99 aa bb cc dd ee ff\n",
      "Timestamp: 1526104527.864395        ID: 0100    S          DLC: 8    88 99 aa bb cc dd ee ff\n",
      "Timestamp: 1526104528.864525        ID: 0100    S          DLC: 8    88 99 aa bb cc dd ee ff\n"
     ]
    },
    {
     "name": "stdout",
     "output_type": "stream",
     "text": [
      "Timestamp: 1526104529.864715        ID: 0100    S          DLC: 8    88 99 aa bb cc dd ee ff\n",
      "Timestamp: 1526104530.864905        ID: 0100    S          DLC: 8    88 99 aa bb cc dd ee ff\n",
      "Timestamp: 1526104531.865095        ID: 0100    S          DLC: 8    88 99 aa bb cc dd ee ff\n",
      "Timestamp: 1526104532.865295        ID: 0100    S          DLC: 8    88 99 aa bb cc dd ee ff\n",
      "Timestamp: 1526104533.865485        ID: 0100    S          DLC: 8    88 99 aa bb cc dd ee ff\n",
      "Timestamp: 1526104534.865675        ID: 0100    S          DLC: 8    88 99 aa bb cc dd ee ff\n",
      "Timestamp: 1526104535.865805        ID: 0100    S          DLC: 8    88 99 aa bb cc dd ee ff\n",
      "Timestamp: 1526104536.865995        ID: 0100    S          DLC: 8    88 99 aa bb cc dd ee ff\n",
      "Timestamp: 1526104537.866185        ID: 0100    S          DLC: 8    88 99 aa bb cc dd ee ff\n",
      "Timestamp: 1526104538.866375        ID: 0100    S          DLC: 8    88 99 aa bb cc dd ee ff\n",
      "Timestamp: 1526104539.866575        ID: 0100    S          DLC: 8    88 99 aa bb cc dd ee ff\n",
      "Timestamp: 1526104540.866765        ID: 0100    S          DLC: 8    88 99 aa bb cc dd ee ff\n",
      "Timestamp: 1526104541.866895        ID: 0100    S          DLC: 8    88 99 aa bb cc dd ee ff\n",
      "Timestamp: 1526104542.867085        ID: 0100    S          DLC: 8    88 99 aa bb cc dd ee ff\n"
     ]
    },
    {
     "ename": "KeyboardInterrupt",
     "evalue": "",
     "output_type": "error",
     "traceback": [
      "\u001b[0;31m---------------------------------------------------------------------------\u001b[0m",
      "\u001b[0;31mKeyboardInterrupt\u001b[0m                         Traceback (most recent call last)",
      "\u001b[0;32m<ipython-input-13-7f3be6baf382>\u001b[0m in \u001b[0;36m<module>\u001b[0;34m()\u001b[0m\n\u001b[1;32m      1\u001b[0m \u001b[0;32mwhile\u001b[0m \u001b[0;32mTrue\u001b[0m\u001b[0;34m:\u001b[0m\u001b[0;34m\u001b[0m\u001b[0m\n\u001b[0;32m----> 2\u001b[0;31m     \u001b[0mpacket\u001b[0m \u001b[0;34m=\u001b[0m \u001b[0mbus\u001b[0m\u001b[0;34m.\u001b[0m\u001b[0mrecv\u001b[0m\u001b[0;34m(\u001b[0m\u001b[0;34m)\u001b[0m\u001b[0;34m\u001b[0m\u001b[0m\n\u001b[0m\u001b[1;32m      3\u001b[0m     \u001b[0mprint\u001b[0m\u001b[0;34m(\u001b[0m\u001b[0mpacket\u001b[0m\u001b[0;34m)\u001b[0m\u001b[0;34m\u001b[0m\u001b[0m\n",
      "\u001b[0;32m/mnt/vault/projects/OSH-HIL/lib/python3.5/site-packages/can/interfaces/kvaser/canlib.py\u001b[0m in \u001b[0;36mrecv\u001b[0;34m(self, timeout)\u001b[0m\n\u001b[1;32m    502\u001b[0m             \u001b[0mctypes\u001b[0m\u001b[0;34m.\u001b[0m\u001b[0mbyref\u001b[0m\u001b[0;34m(\u001b[0m\u001b[0mflags\u001b[0m\u001b[0;34m)\u001b[0m\u001b[0;34m,\u001b[0m\u001b[0;34m\u001b[0m\u001b[0m\n\u001b[1;32m    503\u001b[0m             \u001b[0mctypes\u001b[0m\u001b[0;34m.\u001b[0m\u001b[0mbyref\u001b[0m\u001b[0;34m(\u001b[0m\u001b[0mtimestamp\u001b[0m\u001b[0;34m)\u001b[0m\u001b[0;34m,\u001b[0m\u001b[0;34m\u001b[0m\u001b[0m\n\u001b[0;32m--> 504\u001b[0;31m             \u001b[0mtimeout\u001b[0m  \u001b[0;31m# This is an X ms blocking read\u001b[0m\u001b[0;34m\u001b[0m\u001b[0m\n\u001b[0m\u001b[1;32m    505\u001b[0m         )\n\u001b[1;32m    506\u001b[0m \u001b[0;34m\u001b[0m\u001b[0m\n",
      "\u001b[0;32m/mnt/vault/projects/OSH-HIL/lib/python3.5/site-packages/can/interfaces/kvaser/canlib.py\u001b[0m in \u001b[0;36m__check_status_read\u001b[0;34m(result, function, arguments)\u001b[0m\n\u001b[1;32m     97\u001b[0m \u001b[0;34m\u001b[0m\u001b[0m\n\u001b[1;32m     98\u001b[0m \u001b[0;34m\u001b[0m\u001b[0m\n\u001b[0;32m---> 99\u001b[0;31m \u001b[0;32mdef\u001b[0m \u001b[0m__check_status_read\u001b[0m\u001b[0;34m(\u001b[0m\u001b[0mresult\u001b[0m\u001b[0;34m,\u001b[0m \u001b[0mfunction\u001b[0m\u001b[0;34m,\u001b[0m \u001b[0marguments\u001b[0m\u001b[0;34m)\u001b[0m\u001b[0;34m:\u001b[0m\u001b[0;34m\u001b[0m\u001b[0m\n\u001b[0m\u001b[1;32m    100\u001b[0m     \u001b[0mresult\u001b[0m \u001b[0;34m=\u001b[0m \u001b[0m__convert_can_status_to_int\u001b[0m\u001b[0;34m(\u001b[0m\u001b[0mresult\u001b[0m\u001b[0;34m)\u001b[0m\u001b[0;34m\u001b[0m\u001b[0m\n\u001b[1;32m    101\u001b[0m     \u001b[0;32mif\u001b[0m \u001b[0;32mnot\u001b[0m \u001b[0mcanstat\u001b[0m\u001b[0;34m.\u001b[0m\u001b[0mCANSTATUS_SUCCESS\u001b[0m\u001b[0;34m(\u001b[0m\u001b[0mresult\u001b[0m\u001b[0;34m)\u001b[0m \u001b[0;32mand\u001b[0m \u001b[0mresult\u001b[0m \u001b[0;34m!=\u001b[0m \u001b[0mcanstat\u001b[0m\u001b[0;34m.\u001b[0m\u001b[0mcanERR_NOMSG\u001b[0m\u001b[0;34m:\u001b[0m\u001b[0;34m\u001b[0m\u001b[0m\n",
      "\u001b[0;31mKeyboardInterrupt\u001b[0m: "
     ]
    }
   ],
   "source": [
    "while True:\n",
    "    packet = bus.recv()\n",
    "    print(packet)"
   ]
  },
  {
   "cell_type": "code",
   "execution_count": 14,
   "metadata": {},
   "outputs": [
    {
     "data": {
      "text/plain": [
       "<can.interfaces.kvaser.canlib.KvaserBus at 0x7fb468d255f8>"
      ]
     },
     "execution_count": 14,
     "metadata": {},
     "output_type": "execute_result"
    }
   ],
   "source": [
    "bus"
   ]
  },
  {
   "cell_type": "code",
   "execution_count": 15,
   "metadata": {},
   "outputs": [
    {
     "name": "stdout",
     "output_type": "stream",
     "text": [
      "Kvaser Leaf Light HS, S/N 51089 (#1)\n"
     ]
    }
   ],
   "source": [
    "print(bus)"
   ]
  },
  {
   "cell_type": "code",
   "execution_count": null,
   "metadata": {},
   "outputs": [],
   "source": []
  }
 ],
 "metadata": {
  "kernelspec": {
   "display_name": "Python 3",
   "language": "python",
   "name": "python3"
  },
  "language_info": {
   "codemirror_mode": {
    "name": "ipython",
    "version": 3
   },
   "file_extension": ".py",
   "mimetype": "text/x-python",
   "name": "python",
   "nbconvert_exporter": "python",
   "pygments_lexer": "ipython3",
   "version": "3.5.2"
  }
 },
 "nbformat": 4,
 "nbformat_minor": 2
}
